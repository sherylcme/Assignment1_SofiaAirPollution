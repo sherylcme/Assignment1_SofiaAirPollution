{
 "cells": [
  {
   "cell_type": "code",
   "execution_count": 43,
   "metadata": {
    "collapsed": true
   },
   "outputs": [],
   "source": [
    "# importing libraries \n",
    "import numpy as np\n",
    "import pandas as pd\n",
    "import geohash2 as gh\n",
    "import glob"
   ]
  },
  {
   "cell_type": "code",
   "execution_count": 44,
   "metadata": {},
   "outputs": [],
   "source": [
    "#merge files\n",
    "path = r\"C:\\Users\\Sheryl\\Desktop\\IS428 Visual Analytics for Business Intelligence\\Assignment\\Assignment 1\\sofia-air%2Fair-sofia\\Air Tube\\data\"\n",
    "allfiles = glob.glob(path + \"/*.csv\")\n",
    "df = pd.concat((pd.read_csv(f, encoding = 'ISO-8859-1', sep=',') for f in allfiles))\n",
    "\n",
    "# write to a file containing merged data \n",
    "df.to_csv(\"airtube_merged.csv\")\n",
    "\n",
    "#read merged files\n",
    "df = pd.read_csv(\"airtube_merged.csv\",encoding = \"ISO-8859-1\")\n",
    "\n"
   ]
  },
  {
   "cell_type": "code",
   "execution_count": 45,
   "metadata": {},
   "outputs": [],
   "source": [
    "def decodeGH(geohash):\n",
    "    try:\n",
    "        return gh.decode(geohash)\n",
    "    except Exception:\n",
    "        return [0,0]"
   ]
  },
  {
   "cell_type": "code",
   "execution_count": 46,
   "metadata": {},
   "outputs": [
    {
     "name": "stdout",
     "output_type": "stream",
     "text": [
      "done\n"
     ]
    }
   ],
   "source": [
    "df[\"lat\"] = df[\"geohash\"].apply(lambda x: decodeGH(x)[0])\n",
    "df[\"long\"] = df[\"geohash\"].apply(lambda x: decodeGH(x)[1])\n",
    "df.to_csv(\"airtube_merged_3.csv\")\n",
    "print(\"done\")"
   ]
  },
  {
   "cell_type": "code",
   "execution_count": null,
   "metadata": {
    "collapsed": true
   },
   "outputs": [],
   "source": []
  }
 ],
 "metadata": {
  "kernelspec": {
   "display_name": "Python 3",
   "language": "python",
   "name": "python3"
  },
  "language_info": {
   "codemirror_mode": {
    "name": "ipython",
    "version": 3
   },
   "file_extension": ".py",
   "mimetype": "text/x-python",
   "name": "python",
   "nbconvert_exporter": "python",
   "pygments_lexer": "ipython3",
   "version": "3.6.1"
  }
 },
 "nbformat": 4,
 "nbformat_minor": 2
}
