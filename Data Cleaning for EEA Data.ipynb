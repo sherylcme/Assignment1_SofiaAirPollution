{
 "cells": [
  {
   "cell_type": "code",
   "execution_count": 5,
   "metadata": {
    "collapsed": true
   },
   "outputs": [],
   "source": [
    "# importing libraries \n",
    "import numpy as np\n",
    "import pandas as pd\n",
    "import glob"
   ]
  },
  {
   "cell_type": "code",
   "execution_count": 6,
   "metadata": {
    "collapsed": true
   },
   "outputs": [],
   "source": [
    "# reading all EEA files from folder (merging)\n",
    "path = r\"C:\\Users\\Sheryl\\Desktop\\IS428 Visual Analytics for Business Intelligence\\Assignment\\Assignment 1\\sofia-air%2Fair-sofia\\EEA Data\"\n",
    "allfiles = glob.glob(path + \"/*.csv\")\n",
    "df = pd.concat((pd.read_csv(f, encoding = 'utf-16', sep=',') for f in allfiles))\n",
    "\n",
    "# write to a file containing merged data \n",
    "df.to_csv(\"EEA_merged_new.csv\")\n",
    "\n",
    "# reading merged file\n",
    "eea_merged = pd.read_csv(\"EEA_merged_new.csv\",encoding = \"ISO-8859-1\")\n",
    "\n",
    "# reading metadata.xlsm file \n",
    "meta = pd.read_excel(path+'\\\\metadata.xlsx')\n",
    "\n",
    "# merging the metadata file with EEA files\n",
    "eea_merged_meta = eea_merged.merge(meta[['CommonName','BuildingDistance','InletHeight','KerbDistance','AirQualityStationType','Longitude','Latitude','Altitude','AirQualityStationEoICode']], on='AirQualityStationEoICode')\n",
    "\n",
    "# write to an exisiting merged file with merged information with metadata\n",
    "eea_merged_meta.to_csv(\"EEA_merged_new.csv\")\n",
    "print(\"done\")"
   ]
  }
 ],
 "metadata": {
  "kernelspec": {
   "display_name": "Python 3",
   "language": "python",
   "name": "python3"
  },
  "language_info": {
   "codemirror_mode": {
    "name": "ipython",
    "version": 3
   },
   "file_extension": ".py",
   "mimetype": "text/x-python",
   "name": "python",
   "nbconvert_exporter": "python",
   "pygments_lexer": "ipython3",
   "version": "3.6.1"
  }
 },
 "nbformat": 4,
 "nbformat_minor": 2
}
